{
 "cells": [
  {
   "cell_type": "code",
   "execution_count": 13,
   "id": "fdf9b251",
   "metadata": {},
   "outputs": [],
   "source": [
    "import pandas as pd\n",
    "import numpy as np\n",
    "import matplotlib.pyplot as plt\n",
    "import os\n",
    "from scipy.stats import kurtosis\n"
   ]
  },
  {
   "cell_type": "code",
   "execution_count": 3,
   "id": "7aa2f2d7",
   "metadata": {},
   "outputs": [
    {
     "data": {
      "text/plain": [
       "['bot_parameters.json',\n",
       " 'README.md',\n",
       " 'analytics.py',\n",
       " 'base.py',\n",
       " 'bots.py',\n",
       " '__pycache__',\n",
       " 'playing.py',\n",
       " '.vscode',\n",
       " 'test_bot.py',\n",
       " '.git',\n",
       " 'your_algo.py',\n",
       " 'game.py',\n",
       " 'game_record.csv']"
      ]
     },
     "execution_count": 3,
     "metadata": {},
     "output_type": "execute_result"
    }
   ],
   "source": [
    "os.listdir()"
   ]
  },
  {
   "cell_type": "code",
   "execution_count": 7,
   "id": "3296bdaf",
   "metadata": {},
   "outputs": [
    {
     "data": {
      "text/html": [
       "<div>\n",
       "<style scoped>\n",
       "    .dataframe tbody tr th:only-of-type {\n",
       "        vertical-align: middle;\n",
       "    }\n",
       "\n",
       "    .dataframe tbody tr th {\n",
       "        vertical-align: top;\n",
       "    }\n",
       "\n",
       "    .dataframe thead th {\n",
       "        text-align: right;\n",
       "    }\n",
       "</style>\n",
       "<table border=\"1\" class=\"dataframe\">\n",
       "  <thead>\n",
       "    <tr style=\"text-align: right;\">\n",
       "      <th></th>\n",
       "      <th>UEC</th>\n",
       "    </tr>\n",
       "  </thead>\n",
       "  <tbody>\n",
       "    <tr>\n",
       "      <th>0</th>\n",
       "      <td>1000.0</td>\n",
       "    </tr>\n",
       "    <tr>\n",
       "      <th>1</th>\n",
       "      <td>1001.7</td>\n",
       "    </tr>\n",
       "    <tr>\n",
       "      <th>2</th>\n",
       "      <td>1001.2</td>\n",
       "    </tr>\n",
       "    <tr>\n",
       "      <th>3</th>\n",
       "      <td>1001.2</td>\n",
       "    </tr>\n",
       "    <tr>\n",
       "      <th>4</th>\n",
       "      <td>1001.1</td>\n",
       "    </tr>\n",
       "  </tbody>\n",
       "</table>\n",
       "</div>"
      ],
      "text/plain": [
       "      UEC\n",
       "0  1000.0\n",
       "1  1001.7\n",
       "2  1001.2\n",
       "3  1001.2\n",
       "4  1001.1"
      ]
     },
     "execution_count": 7,
     "metadata": {},
     "output_type": "execute_result"
    }
   ],
   "source": [
    "df = pd.read_csv(\"player_mid_prices.csv\", index_col=0)\n",
    "df.head()"
   ]
  },
  {
   "cell_type": "code",
   "execution_count": 8,
   "id": "2c2fa05b",
   "metadata": {},
   "outputs": [],
   "source": [
    "df[\"log_ret\"] = np.log(df[\"UEC\"] / df[\"UEC\"].shift(1))"
   ]
  },
  {
   "cell_type": "code",
   "execution_count": 14,
   "id": "b8816394",
   "metadata": {},
   "outputs": [
    {
     "data": {
      "image/png": "[encoded data removed]",
      "text/plain": [
       "<Figure size 640x480 with 1 Axes>"
      ]
     },
     "metadata": {},
     "output_type": "display_data"
    }
   ],
   "source": [
    "# Only plot the non-zero log returns, clipped at 1% and 99%\n",
    "lower = df[\"log_ret\"].quantile(0.01)\n",
    "upper = df[\"log_ret\"].quantile(0.99)\n",
    "clipped = df[\"log_ret\"].clip(lower, upper)\n",
    "nonzero_clipped = clipped[clipped != 0].dropna()\n",
    "plt.hist(nonzero_clipped, bins=50, density=True)\n",
    "plt.title(\"Histogram of non-zero log returns (1% tails clipped)\")\n",
    "plt.show()"
   ]
  },
  {
   "cell_type": "code",
   "execution_count": 15,
   "id": "3f2a158c",
   "metadata": {},
   "outputs": [
    {
     "name": "stdout",
     "output_type": "stream",
     "text": [
      "Kurtosis of non-zero, clipped log returns: 4.0353389023024455\n"
     ]
    }
   ],
   "source": [
    "print(\"Kurtosis of non-zero, clipped log returns:\", kurtosis(nonzero_clipped, fisher=False))"
   ]
  },
  {
   "cell_type": "code",
   "execution_count": 10,
   "id": "ca925fd6",
   "metadata": {},
   "outputs": [
    {
     "data": {
      "text/plain": [
       "count    19998.000000\n",
       "mean        -0.000008\n",
       "std          0.002052\n",
       "min         -0.038737\n",
       "25%          0.000000\n",
       "50%          0.000000\n",
       "75%          0.000000\n",
       "max          0.042213\n",
       "Name: log_ret, dtype: float64"
      ]
     },
     "execution_count": 10,
     "metadata": {},
     "output_type": "execute_result"
    }
   ],
   "source": [
    "df[\"log_ret\"].describe()"
   ]
  },
  {
   "cell_type": "code",
   "execution_count": null,
   "id": "4dce746c",
   "metadata": {},
   "outputs": [],
   "source": []
  }
 ],
 "metadata": {
  "kernelspec": {
   "display_name": "research_env",
   "language": "python",
   "name": "python3"
  },
  "language_info": {
   "codemirror_mode": {
    "name": "ipython",
    "version": 3
   },
   "file_extension": ".py",
   "mimetype": "text/x-python",
   "name": "python",
   "nbconvert_exporter": "python",
   "pygments_lexer": "ipython3",
   "version": "3.11.11"
  }
 },
 "nbformat": 4,
 "nbformat_minor": 5
}
